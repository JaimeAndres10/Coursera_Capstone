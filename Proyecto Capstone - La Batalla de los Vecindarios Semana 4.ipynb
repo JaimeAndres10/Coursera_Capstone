{
 "cells": [
  {
   "cell_type": "markdown",
   "metadata": {},
   "source": [
    "# Proyecto Capstone - La Batalla de los Vecindarios semana 4"
   ]
  },
  {
   "cell_type": "markdown",
   "metadata": {},
   "source": [
    "# Tabla de Contenido\n",
    "1. Introducción\n",
    "2. Problema Comercial\n",
    "3. Datos\n",
    "4. Proceso\n",
    "5. Metodología\n",
    "6. Resultados\n",
    "7. Conclusiones"
   ]
  },
  {
   "cell_type": "markdown",
   "metadata": {},
   "source": [
    "# Introducción\n",
    "\n",
    "En este proyecto vamos a abordar geográficamente cada uno de los barrios de la ciudad de Medellín - Colombia, con el fin de determinar la mejor opción para establecer una discoteca.\n",
    "Utilizaremos una base de datos proporcionada por la alcaldía de Medellí, ademas otra herramienta es la API de Foursqueare, que nos ayudara para analizar a detalle cada uno de los barrios, al realizar este análisis nos daremos cuenta de aquellos lugares cercanos y comunes a nuestra área de interés.\n",
    "Además, nuestro público objetivo es todo aquel interesado en emprender crenado un negocio para el comercio nocturno de la ciudad de Medellín\n"
   ]
  },
  {
   "cell_type": "markdown",
   "metadata": {},
   "source": [
    "# Problema Comercial\n",
    "\n",
    "Este problema surge ya que uno de los efectos de la pandemia del año 2020 es la desaparición del entreteniendo nocturno en la ciudad de Medellín, por lo tanto, se busca el barrio más adecuado para emprender en este segmento del mercado.\n",
    "Con base en lo anterior, utilizaremos Ciencia de Datos para generar Clústeres y así saber en cual barrio de Medellín es más factible entablar una discoteca.\n"
   ]
  },
  {
   "cell_type": "markdown",
   "metadata": {},
   "source": [
    "# Datos\n",
    "\n",
    "Para este proyecto nos basamos en la fuente de datos Barrios Medellín la cual la encontramos en la página web Geo Medellín, sitio web administrado por la Alcaldía de Medellín. En esta fuente de datos, encontraremos cada uno de los barrios de la ciudad de Medellín, juntos con otros atributos tales como tamaño del área, nombre de la comuna a la que pertenece, Id, entre otros. Posteriormente haremos limpieza de datos para dejar solo nuestros campos de interés.\n",
    "Como segundo recurso utilizamos la librería geopy para encontrar los valores de latitud y longitud para cada uno de los barrios.\n",
    "Una vez tengamos el DataFrame de los barrios de Medellín con sus respectivas coordenadas, procederemos a usar la API de Foursquare para analizar cada uno de los barrios.\n",
    "Con nuestro DataFrame completo con el nombre del barrio y sus respectivas coordenadas, procedemos a conectarnos con Foursquare, el cual nos ayudará a analizar cuáles son las categorías de negocios más comunes en cada uno de los barrios de la ciudad de Medellín.\n"
   ]
  },
  {
   "cell_type": "code",
   "execution_count": null,
   "metadata": {},
   "outputs": [],
   "source": []
  }
 ],
 "metadata": {
  "kernelspec": {
   "display_name": "Python 3",
   "language": "python",
   "name": "python3"
  },
  "language_info": {
   "codemirror_mode": {
    "name": "ipython",
    "version": 3
   },
   "file_extension": ".py",
   "mimetype": "text/x-python",
   "name": "python",
   "nbconvert_exporter": "python",
   "pygments_lexer": "ipython3",
   "version": "3.8.5"
  }
 },
 "nbformat": 4,
 "nbformat_minor": 4
}
